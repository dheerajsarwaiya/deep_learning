{
 "cells": [
  {
   "cell_type": "code",
   "execution_count": 1,
   "metadata": {},
   "outputs": [],
   "source": [
    "import cv2"
   ]
  },
  {
   "cell_type": "code",
   "execution_count": 2,
   "metadata": {},
   "outputs": [],
   "source": [
    "import numpy as np"
   ]
  },
  {
   "cell_type": "code",
   "execution_count": 3,
   "metadata": {},
   "outputs": [],
   "source": [
    "img1 = cv2.imread(\"background.png\")\n",
    "img2 = cv2.imread(\"changed.png\")\n",
    "diff = cv2.absdiff(img1, img2)\n",
    "gray = cv2.cvtColor(diff, cv2.COLOR_BGR2GRAY)\n",
    "\n",
    "## find the nozero regions in the gray\n",
    "imask =  gray>0\n",
    "\n",
    "## create a Mat like img2\n",
    "canvas = np.zeros_like(img2, np.uint8)\n",
    "\n",
    "## set mask \n",
    "canvas[imask] = img2[imask]\n",
    "# cv2.imwrite(\"result.png\", canvas)\n",
    "cv2.imshow(\"Outline\", canvas)\n",
    "cv2.waitKey(0)\n",
    "cv2.destroyAllWindows()"
   ]
  },
  {
   "cell_type": "code",
   "execution_count": 4,
   "metadata": {},
   "outputs": [],
   "source": [
    "cap = cv2.VideoCapture(0)\n",
    "ret, current_frame = cap.read()\n",
    "previous_frame = current_frame\n",
    "\n",
    "while(cap.isOpened()):\n",
    "    current_frame_gray = cv2.cvtColor(current_frame, cv2.COLOR_BGR2GRAY)\n",
    "    previous_frame_gray = cv2.cvtColor(previous_frame, cv2.COLOR_BGR2GRAY)    \n",
    "\n",
    "    frame_diff = cv2.absdiff(current_frame_gray,previous_frame_gray)\n",
    "    \n",
    "    cv2.imshow('frame diff ',frame_diff)      \n",
    "    if cv2.waitKey(1) & 0xFF == ord('q'):\n",
    "        break\n",
    "\n",
    "    previous_frame = current_frame.copy()\n",
    "    ret, current_frame = cap.read()\n",
    "\n",
    "cap.release()\n",
    "cv2.destroyAllWindows()"
   ]
  },
  {
   "cell_type": "code",
   "execution_count": null,
   "metadata": {},
   "outputs": [],
   "source": []
  }
 ],
 "metadata": {
  "kernelspec": {
   "display_name": "Python 3",
   "language": "python",
   "name": "python3"
  },
  "language_info": {
   "codemirror_mode": {
    "name": "ipython",
    "version": 3
   },
   "file_extension": ".py",
   "mimetype": "text/x-python",
   "name": "python",
   "nbconvert_exporter": "python",
   "pygments_lexer": "ipython3",
   "version": "3.6.5"
  }
 },
 "nbformat": 4,
 "nbformat_minor": 2
}
